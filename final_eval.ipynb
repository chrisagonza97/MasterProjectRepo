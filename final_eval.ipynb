{
 "cells": [
  {
   "cell_type": "code",
   "execution_count": 3,
   "metadata": {},
   "outputs": [
    {
     "name": "stdout",
     "output_type": "stream",
     "text": [
      "X_train shape: torch.Size([160, 3, 256, 256])\n",
      "Y_train shape: torch.Size([160, 256, 256])\n",
      "X_val shape: torch.Size([40, 3, 256, 256])\n"
     ]
    },
    {
     "name": "stderr",
     "output_type": "stream",
     "text": [
      "c:\\Python312\\Lib\\site-packages\\torch\\nn\\functional.py:4969: UserWarning: Default grid_sample and affine_grid behavior has changed to align_corners=False since 1.3.0. Please specify align_corners=True if the old behavior is desired. See the documentation of grid_sample for details.\n",
      "  warnings.warn(\n",
      "c:\\Python312\\Lib\\site-packages\\torch\\nn\\functional.py:4902: UserWarning: Default grid_sample and affine_grid behavior has changed to align_corners=False since 1.3.0. Please specify align_corners=True if the old behavior is desired. See the documentation of grid_sample for details.\n",
      "  warnings.warn(\n"
     ]
    },
    {
     "name": "stdout",
     "output_type": "stream",
     "text": [
      "Augmented X shape: torch.Size([480, 3, 256, 256]), Augmented Y shape: torch.Size([480, 256, 256])\n"
     ]
    }
   ],
   "source": [
    "import pandas as pd\n",
    "import numpy as np\n",
    "import torch\n",
    "from sklearn.model_selection import train_test_split\n",
    "from augment_train import augment_train\n",
    "import time\n",
    "from sklearn.metrics import classification_report\n",
    "\n",
    "urothelial_cells=pd.read_pickle(\"urothelial_cell_toy_data.pkl\")\n",
    "images=np.transpose(urothelial_cells[\"X\"].numpy()*255,(0,2,3,1)).astype(np.uint8)\n",
    "labels=urothelial_cells[\"y\"]\n",
    "X = urothelial_cells[\"X\"].numpy()  # (200, 3, 256, 256)\n",
    "Y = urothelial_cells[\"y\"]\n",
    "X_train, X_val, Y_train, Y_val = train_test_split(X, Y, test_size=0.2, random_state=42)\n",
    "X_train = torch.FloatTensor(X_train)  # (N, C, H, W)\n",
    "X_val = torch.FloatTensor(X_val)\n",
    "Y_train = torch.LongTensor(Y_train)  # (N, 1, H, W)\n",
    "Y_val = torch.LongTensor(Y_val)\n",
    "\n",
    "# Print shapes for verification\n",
    "print(f\"X_train shape: {X_train.shape}\")  # Expected: (160, 3, 256, 256)\n",
    "print(f\"Y_train shape: {Y_train.shape}\")  # Expected: (160, 1, 256, 256)\n",
    "print(f\"X_val shape: {X_val.shape}\") \n",
    "\n",
    "\n",
    "X_train_aug, Y_train_aug = augment_train(X_train, Y_train, augment_times=2)"
   ]
  },
  {
   "cell_type": "code",
   "execution_count": null,
   "metadata": {},
   "outputs": [],
   "source": [
    "#Evaluating UNet model\n",
    "from semseg_functions import make_predictions\n",
    "from sklearn.metrics import classification_report\n",
    "\n",
    "begin_time=time.time()\n",
    "y_val_pred=make_predictions(X_val,model=None)\n",
    "y_val_pred_lbls=y_val_pred.argmax(1)\n",
    "end_time=time.time()\n",
    "total_time=end_time-begin_time\n",
    "print(classification_report(Y_val.numpy().flatten(),y_val_pred_lbls.flatten()))\n",
    "print(f\"Time taken for predictions: {total_time:.2f} seconds\")\n"
   ]
  },
  {
   "cell_type": "code",
   "execution_count": 5,
   "metadata": {},
   "outputs": [
    {
     "name": "stdout",
     "output_type": "stream",
     "text": [
      "X_train_aug shape: torch.Size([480, 3, 256, 256])\n",
      "Y_train_aug shape: torch.Size([480, 256, 256])\n"
     ]
    },
    {
     "name": "stderr",
     "output_type": "stream",
     "text": [
      "c:\\Users\\Chris\\Documents\\MasterProject590\\code\\demos\\Project2\\semseg_functions.py:315: FutureWarning: You are using `torch.load` with `weights_only=False` (the current default value), which uses the default pickle module implicitly. It is possible to construct malicious pickle data which will execute arbitrary code during unpickling (See https://github.com/pytorch/pytorch/blob/main/SECURITY.md#untrusted-models for more details). In a future release, the default value for `weights_only` will be flipped to `True`. This limits the functions that could be executed during unpickling. Arbitrary objects will no longer be allowed to be loaded via this mode unless they are explicitly allowlisted by the user via `torch.serialization.add_safe_globals`. We recommend you start setting `weights_only=True` for any use case where you don't have full control of the loaded file. Please open an issue on GitHub for any issues related to this experimental feature.\n",
      "  model.load_state_dict(torch.load(model_list[-1],map_location=\"cpu\"))\n"
     ]
    },
    {
     "name": "stdout",
     "output_type": "stream",
     "text": [
      "Loading model from: ./seg_models\\best_transunet_model.pkl\n",
      "              precision    recall  f1-score   support\n",
      "\n",
      "           0       0.98      0.95      0.96    937035\n",
      "           1       0.92      0.86      0.89   1187442\n",
      "           2       0.75      0.92      0.83    496963\n",
      "\n",
      "    accuracy                           0.90   2621440\n",
      "   macro avg       0.88      0.91      0.89   2621440\n",
      "weighted avg       0.91      0.90      0.90   2621440\n",
      "\n",
      "Time taken for predictions: 1.55 seconds\n",
      "AUROC: 0.9827075787794297\n"
     ]
    }
   ],
   "source": [
    "#Evaluating TransUNet model\n",
    "from semseg_functions import make_predictions_transunet\n",
    "\n",
    "\n",
    "\n",
    "print(\"X_train_aug shape:\", X_train_aug.shape)\n",
    "print(\"Y_train_aug shape:\", Y_train_aug.shape)\n",
    "\n",
    "#keep track of total time\n",
    "begin_time=time.time()\n",
    "y_val_pred=make_predictions_transunet(X_val,model=None)\n",
    "y_val_pred_lbls=y_val_pred.argmax(1)\n",
    "end_time=time.time()\n",
    "total_time=end_time-begin_time\n",
    "print(classification_report(Y_val.numpy().flatten(),y_val_pred_lbls.flatten()))\n",
    "print(f\"Time taken for predictions: {total_time:.2f} seconds\")\n",
    "\n",
    "\n",
    "from sklearn.metrics import roc_auc_score\n",
    "from sklearn.preprocessing import label_binarize\n",
    "\n",
    "# Flatten prediction: shape (B, C, H, W) → (N, C)\n",
    "y_val_pred_flat = y_val_pred.transpose(0, 2, 3, 1).reshape(-1, y_val_pred.shape[1])\n",
    "\n",
    "# Flatten true labels: shape (B, H, W) → (N,)\n",
    "y_true = Y_val.numpy().flatten()\n",
    "\n",
    "# Binarize true labels for multiclass AUROC\n",
    "y_true_binarized = label_binarize(y_true, classes=[0, 1, 2])\n",
    "\n",
    "# Compute AUROC\n",
    "auroc = roc_auc_score(y_true_binarized, y_val_pred_flat, multi_class='ovr')\n",
    "\n",
    "print(\"AUROC:\", auroc)\n",
    "\n"
   ]
  },
  {
   "cell_type": "code",
   "execution_count": null,
   "metadata": {},
   "outputs": [],
   "source": [
    "#Evaluating Intensity thresholding"
   ]
  },
  {
   "cell_type": "code",
   "execution_count": null,
   "metadata": {},
   "outputs": [],
   "source": []
  }
 ],
 "metadata": {
  "kernelspec": {
   "display_name": "Python 3",
   "language": "python",
   "name": "python3"
  },
  "language_info": {
   "codemirror_mode": {
    "name": "ipython",
    "version": 3
   },
   "file_extension": ".py",
   "mimetype": "text/x-python",
   "name": "python",
   "nbconvert_exporter": "python",
   "pygments_lexer": "ipython3",
   "version": "3.12.2"
  }
 },
 "nbformat": 4,
 "nbformat_minor": 2
}
