{
 "cells": [
  {
   "cell_type": "code",
   "execution_count": 1,
   "metadata": {},
   "outputs": [],
   "source": [
    "# https://colab.research.google.com/github/junyanz/pytorch-CycleGAN-and-pix2pix/blob/master/pix2pix.ipynb#scrollTo=TRm-USlsHgEV\n"
   ]
  },
  {
   "cell_type": "code",
   "execution_count": 2,
   "metadata": {},
   "outputs": [
    {
     "name": "stdout",
     "output_type": "stream",
     "text": [
      "[fold_A] =  img_label_jpgs/A\n",
      "[fold_B] =  img_label_jpgs/B\n",
      "[fold_AB] =  img_label_jpgs/\n",
      "[num_imgs] =  1000000\n",
      "[use_AB] =  False\n",
      "[no_multiprocessing] =  True\n",
      "split = test, use 40/40 images\n",
      "split = test, number of images = 40\n",
      "split = train, use 160/160 images\n",
      "split = train, number of images = 160\n",
      "split = val, use 40/40 images\n",
      "split = val, number of images = 40\n"
     ]
    }
   ],
   "source": [
    "!python datasets/combine_A_and_B.py --fold_A img_label_jpgs/A --fold_B img_label_jpgs/B --fold_AB img_label_jpgs/ --no_multiprocessing"
   ]
  },
  {
   "cell_type": "code",
   "execution_count": 3,
   "metadata": {},
   "outputs": [
    {
     "name": "stdout",
     "output_type": "stream",
     "text": [
      "^C\n"
     ]
    }
   ],
   "source": [
    "!python train.py --dataroot ./img_label_jpgs --name urothelial_pix2pix --model pix2pix --direction AtoB --display_id -1 --gpu_ids 0 --n_epochs 5 --n_epochs_decay 0\n"
   ]
  },
  {
   "cell_type": "code",
   "execution_count": null,
   "metadata": {},
   "outputs": [],
   "source": [
    "!python test.py --dataroot ./img_label_jpgs --direction AtoB --model pix2pix --name urothelial_pix2pix --num_test 40 --gpu_ids 0"
   ]
  }
 ],
 "metadata": {
  "kernelspec": {
   "display_name": "Python 3",
   "language": "python",
   "name": "python3"
  },
  "language_info": {
   "codemirror_mode": {
    "name": "ipython",
    "version": 3
   },
   "file_extension": ".py",
   "mimetype": "text/x-python",
   "name": "python",
   "nbconvert_exporter": "python",
   "pygments_lexer": "ipython3",
   "version": "3.12.2"
  }
 },
 "nbformat": 4,
 "nbformat_minor": 2
}
