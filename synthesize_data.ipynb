{
 "cells": [
  {
   "cell_type": "code",
   "execution_count": 18,
   "metadata": {},
   "outputs": [],
   "source": [
    "import os\n",
    "import numpy as np\n",
    "from PIL import Image\n",
    "from sklearn.model_selection import train_test_split\n",
    "import pandas as pd"
   ]
  },
  {
   "cell_type": "code",
   "execution_count": 19,
   "metadata": {},
   "outputs": [
    {
     "name": "stdout",
     "output_type": "stream",
     "text": [
      "(200, 256, 256, 3)\n",
      "torch.Size([200, 3, 256, 256])\n",
      "(200, 256, 256)\n"
     ]
    }
   ],
   "source": [
    "urothelial_cells=pd.read_pickle(\"urothelial_cell_toy_data.pkl\")\n",
    "images=np.transpose(urothelial_cells[\"X\"].numpy()*255,(0,2,3,1)).astype(np.uint8)\n",
    "labels=urothelial_cells[\"y\"]\n",
    "\n",
    "urothelial_cells.keys()\n",
    "#print shape\n",
    "print(images.shape)\n",
    "print(urothelial_cells[\"X\"].shape)\n",
    "print(urothelial_cells[\"y\"].shape)"
   ]
  },
  {
   "cell_type": "code",
   "execution_count": 20,
   "metadata": {},
   "outputs": [],
   "source": [
    "COLORMAP = {\n",
    "    0: (0, 0, 0),       # class 0 -> black\n",
    "    1: (127, 127, 127), # class 1 -> gray\n",
    "    2: (255, 255, 255), # class 2 -> white\n",
    "}\n",
    "\n",
    "def colorize_mask(mask_array):\n",
    "    h, w = mask_array.shape\n",
    "    colorized = np.zeros((h, w, 3), dtype=np.uint8)\n",
    "    for class_id, color in COLORMAP.items():\n",
    "        colorized[mask_array == class_id] = color\n",
    "    return colorized\n"
   ]
  },
  {
   "cell_type": "code",
   "execution_count": 21,
   "metadata": {},
   "outputs": [],
   "source": [
    "\n",
    "root=\"img_label_jpgs\"\n",
    "\n",
    "X = urothelial_cells[\"X\"].numpy()  # (200, 3, 256, 256)\n",
    "Y = urothelial_cells[\"y\"]          # (200, 256, 256)\n",
    "\n",
    "X_train, X_test, Y_train, Y_test = train_test_split(X, Y, test_size=0.2, random_state=42)\n",
    "\n",
    "splits = {\n",
    "    \"train\": (X_train, Y_train),\n",
    "    \"val\": (X_test, Y_test),\n",
    "    \"test\": (X_test, Y_test),\n",
    "}\n",
    "\n",
    "#make folders\n",
    "for folder in [\"A\", \"B\"]:\n",
    "    for split in splits:\n",
    "        split_path = os.path.join(root, folder, split)\n",
    "        os.makedirs(split_path, exist_ok=True)\n",
    "        for filename in os.listdir(split_path):\n",
    "            file_path = os.path.join(split_path, filename)\n",
    "            if os.path.isfile(file_path):\n",
    "                os.remove(file_path)\n",
    "\n",
    "for split, (X_data, Y_data) in splits.items():\n",
    "    for i in range(len(X_data)):\n",
    "        img = Image.fromarray(np.transpose(X_data[i] * 255, (1, 2, 0)).astype(np.uint8))\n",
    "        color_mask = colorize_mask(Y_data[i].astype(np.uint8))\n",
    "\n",
    "        img.save(os.path.join(root, \"B\", split, f\"{i}.jpg\"))\n",
    "        Image.fromarray(color_mask).save(os.path.join(root, \"A\", split, f\"{i}.jpg\"))\n"
   ]
  },
  {
   "cell_type": "code",
   "execution_count": null,
   "metadata": {},
   "outputs": [],
   "source": []
  }
 ],
 "metadata": {
  "kernelspec": {
   "display_name": "Python 3",
   "language": "python",
   "name": "python3"
  },
  "language_info": {
   "codemirror_mode": {
    "name": "ipython",
    "version": 3
   },
   "file_extension": ".py",
   "mimetype": "text/x-python",
   "name": "python",
   "nbconvert_exporter": "python",
   "pygments_lexer": "ipython3",
   "version": "3.12.2"
  }
 },
 "nbformat": 4,
 "nbformat_minor": 2
}
